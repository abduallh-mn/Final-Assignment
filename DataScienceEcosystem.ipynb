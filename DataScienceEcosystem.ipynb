{
 "cells": [
  {
   "cell_type": "markdown",
   "id": "c36d52c3-3cf0-4235-8f1d-ef6e16ec8d56",
   "metadata": {},
   "source": [
    "# Data Science Tools and Ecosystem"
   ]
  },
  {
   "cell_type": "markdown",
   "id": "0562af35-083a-4565-a132-8ce2f634b6f3",
   "metadata": {},
   "source": [
    "In this notebook, Data Science Tools and Ecosystem are summarized."
   ]
  },
  {
   "cell_type": "markdown",
   "id": "baae3a73-19d2-42a2-8d5e-d1e2d05c82a3",
   "metadata": {},
   "source": [
    "__Objectives:__ \n",
    "* Python\n",
    "* R\n",
    "* Julia\n",
    "* SQL \n",
    "* Scala"
   ]
  },
  {
   "cell_type": "markdown",
   "id": "3aee722b-7592-41d3-ba1f-168334353f6f",
   "metadata": {},
   "source": [
    "Some of the popular languages that Data Scientists use are:\n",
    "1. Python \n",
    "2. R\n",
    "3. Julia"
   ]
  },
  {
   "cell_type": "markdown",
   "id": "39def92b-82ee-40d0-9b87-3f8177484274",
   "metadata": {},
   "source": [
    "Some of the commonly used libraries used by Data Scientists include:\n",
    "1. NumPy\n",
    "2. Matplotlib\n",
    "3. Pandas\n"
   ]
  },
  {
   "cell_type": "markdown",
   "id": "338dc9cb-1ef4-4c46-bd78-7dbb9d4bc420",
   "metadata": {},
   "source": [
    "|Data Science Tools|\n",
    "|-----------------|\n",
    "|Apache Spark|\n",
    "|TensorFlow.js|\n",
    "|Git|\n"
   ]
  },
  {
   "cell_type": "markdown",
   "id": "bb6b61b1-1397-4ed2-93b7-f484905d1838",
   "metadata": {},
   "source": [
    "### Below are a few examples of evaluating arithmetic expressions in Python"
   ]
  },
  {
   "cell_type": "code",
   "execution_count": 1,
   "id": "57a8f5e0-7bf6-44a9-95e1-3757274a5519",
   "metadata": {},
   "outputs": [
    {
     "data": {
      "text/plain": [
       "17"
      ]
     },
     "execution_count": 1,
     "metadata": {},
     "output_type": "execute_result"
    }
   ],
   "source": [
    "#This a simple arithmetic expression to mutiply then add integers\n",
    "(3*4)+5"
   ]
  },
  {
   "cell_type": "code",
   "execution_count": 6,
   "id": "1a8065c9-4445-4f95-9d76-81430d61ab0f",
   "metadata": {},
   "outputs": [
    {
     "data": {
      "text/plain": [
       "3.3333333333333335"
      ]
     },
     "execution_count": 6,
     "metadata": {},
     "output_type": "execute_result"
    }
   ],
   "source": [
    "#This will convert 200 minutes to hours by diving by 60\n",
    "(200/60)"
   ]
  },
  {
   "cell_type": "markdown",
   "id": "7521e078-217a-440d-90db-27ddfb8ef5fe",
   "metadata": {},
   "source": [
    " \n",
    "## Auther: Lakshmi Holla , Niveditha Pandith \n",
    "Name: \n",
    "Abduallh Alnafisah \n",
    "\n"
   ]
  },
  {
   "cell_type": "code",
   "execution_count": null,
   "id": "f3163039-741f-438e-879f-18339ee56940",
   "metadata": {},
   "outputs": [],
   "source": []
  }
 ],
 "metadata": {
  "kernelspec": {
   "display_name": "Python 3 (ipykernel)",
   "language": "python",
   "name": "python3"
  },
  "language_info": {
   "codemirror_mode": {
    "name": "ipython",
    "version": 3
   },
   "file_extension": ".py",
   "mimetype": "text/x-python",
   "name": "python",
   "nbconvert_exporter": "python",
   "pygments_lexer": "ipython3",
   "version": "3.12.7"
  }
 },
 "nbformat": 4,
 "nbformat_minor": 5
}
